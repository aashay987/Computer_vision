{
 "metadata": {
  "language_info": {
   "codemirror_mode": {
    "name": "ipython",
    "version": 3
   },
   "file_extension": ".py",
   "mimetype": "text/x-python",
   "name": "python",
   "nbconvert_exporter": "python",
   "pygments_lexer": "ipython3",
   "version": "3.7.3"
  },
  "orig_nbformat": 2,
  "kernelspec": {
   "name": "python373jvsc74a57bd031dbc7a7d828617551903782c5331257c9ddec6a035efbdcde7ecd752a916595",
   "display_name": "Python 3.7.3 64-bit ('base': conda)"
  }
 },
 "nbformat": 4,
 "nbformat_minor": 2,
 "cells": [
  {
   "cell_type": "code",
   "execution_count": null,
   "metadata": {},
   "outputs": [],
   "source": [
    "import cv2\n",
    "import numpy as np"
   ]
  },
  {
   "cell_type": "code",
   "execution_count": null,
   "metadata": {},
   "outputs": [],
   "source": [
    "def processImage(image):\n",
    "    image = cv2.imread(image)\n",
    "    image = cv2.cvtColor(src=image, code=cv2.COLOR_BGR2GRAY)\n",
    "    return image"
   ]
  },
  {
   "cell_type": "code",
   "execution_count": 71,
   "metadata": {},
   "outputs": [],
   "source": [
    "def conv(image,kernel,padding=0,stride=1):\n",
    "    img_x=image.shape[0]\n",
    "    img_y=image.shape[1]\n",
    "    kernel_x=kernel.shape[0]\n",
    "    kernel_y=kernel.shape[1]\n",
    "    # h=kernel_h//2\n",
    "    # w=kernel_w//2\n",
    "    x_output=int(((img_x - kernel_x + 2*padding)/stride) + 1)\n",
    "    y_output=int(((img_y - kernel_y + 2*padding)/stride) + 1)\n",
    "    output=np.zeros((x_output,y_output))\n",
    "    print(output.shape)\n",
    "    if padding!=0:\n",
    "        image_padded=np.zeros((img_x + 2*padding,img_y+2*padding))\n",
    "        image_padded[padding:padding+img_x,padding:padding+img_y]=image\n",
    "    else:\n",
    "        image_padded=image\n",
    "    print(image_padded.shape)\n",
    "    # for y in range(image.shape[1]):\n",
    "    #     if y > image.shape[1]-kernel_y:\n",
    "    #         break\n",
    "    #     if y % stride == 0:\n",
    "    #         #Perform convolution\n",
    "    #          for x in range(image.shape[0]):\n",
    "    #              if x > image.shape[0]-kernel_x: \n",
    "    #                  break\n",
    "    #              if x % strides == 0:\n",
    "    #                     output[x, y] = (kernel * imagePadded[x: x + xKernShape, y: y + yKernShape]).sum()\n",
    "\n",
    "    \n",
    "    for y in range(image_padded.shape[1]):\n",
    "        if y < kernel_y//2 or y >= image_padded.shape[1] - kernel_y//2 or y % stride != 0:\n",
    "            continue\n",
    "        for x in range(image_padded.shape[0]):\n",
    "            if x < kernel_x//2 or x >= image_padded.shape[0] - kernel_x//2 or x % stride != 0:\n",
    "                continue\n",
    "            else:\n",
    "                output[x - kernel_x//2 ,y - kernel_y//2]=1/8*((kernel*image_padded[x - kernel_x//2: x + kernel_x//2 +1, y - kernel_y//2: y + kernel_y//2 +1 ]).sum())\n",
    "                \n",
    "                \n",
    "    return output          \n",
    "              \n"
   ]
  },
  {
   "cell_type": "code",
   "execution_count": 73,
   "metadata": {
    "tags": []
   },
   "outputs": [
    {
     "output_type": "stream",
     "name": "stdout",
     "text": [
      "(361, 640)\n(363, 642)\n"
     ]
    },
    {
     "output_type": "error",
     "ename": "TypeError",
     "evalue": "Expected Ptr<cv::UMat> for argument '%s'",
     "traceback": [
      "\u001b[1;31m---------------------------------------------------------------------------\u001b[0m",
      "\u001b[1;31mTypeError\u001b[0m                                 Traceback (most recent call last)",
      "\u001b[1;32m<ipython-input-73-e61881684a98>\u001b[0m in \u001b[0;36m<module>\u001b[1;34m\u001b[0m\n\u001b[0;32m      7\u001b[0m \u001b[0moutput\u001b[0m \u001b[1;33m=\u001b[0m \u001b[0mconv\u001b[0m\u001b[1;33m(\u001b[0m\u001b[0mimage\u001b[0m\u001b[1;33m,\u001b[0m \u001b[0mkernel\u001b[0m\u001b[1;33m,\u001b[0m \u001b[0mpadding\u001b[0m\u001b[1;33m=\u001b[0m\u001b[1;36m2\u001b[0m\u001b[1;33m)\u001b[0m\u001b[1;33m\u001b[0m\u001b[1;33m\u001b[0m\u001b[0m\n\u001b[0;32m      8\u001b[0m \u001b[0mcv2\u001b[0m\u001b[1;33m.\u001b[0m\u001b[0mimshow\u001b[0m\u001b[1;33m(\u001b[0m\u001b[1;34m'output'\u001b[0m\u001b[1;33m,\u001b[0m\u001b[0moutput\u001b[0m\u001b[1;33m)\u001b[0m\u001b[1;33m\u001b[0m\u001b[1;33m\u001b[0m\u001b[0m\n\u001b[1;32m----> 9\u001b[1;33m \u001b[0mcv2\u001b[0m\u001b[1;33m.\u001b[0m\u001b[0mimshow\u001b[0m\u001b[1;33m(\u001b[0m\u001b[1;34m'input'\u001b[0m\u001b[1;33m,\u001b[0m\u001b[0minput\u001b[0m\u001b[1;33m)\u001b[0m\u001b[1;33m\u001b[0m\u001b[1;33m\u001b[0m\u001b[0m\n\u001b[0m\u001b[0;32m     10\u001b[0m \u001b[0mcv2\u001b[0m\u001b[1;33m.\u001b[0m\u001b[0mwaitKey\u001b[0m\u001b[1;33m(\u001b[0m\u001b[1;36m0\u001b[0m\u001b[1;33m)\u001b[0m\u001b[1;33m\u001b[0m\u001b[1;33m\u001b[0m\u001b[0m\n\u001b[0;32m     11\u001b[0m \u001b[0mcv2\u001b[0m\u001b[1;33m.\u001b[0m\u001b[0mdestroyAllWindows\u001b[0m\u001b[1;33m(\u001b[0m\u001b[1;33m)\u001b[0m\u001b[1;33m\u001b[0m\u001b[1;33m\u001b[0m\u001b[0m\n",
      "\u001b[1;31mTypeError\u001b[0m: Expected Ptr<cv::UMat> for argument '%s'"
     ]
    }
   ],
   "source": [
    "image = processImage('Image.jpeg')\n",
    "\n",
    "    # Edge Detection Kernel\n",
    "kernel = np.array([[-1, -1, -1], [-1, 8, -1], [-1, -1, -1]])\n",
    "\n",
    "    # Convolve and Save Output\n",
    "output = conv(image, kernel, padding=2)\n",
    "cv2.imshow('output',output)\n",
    "cv2.waitKey(0) \n",
    "cv2.destroyAllWindows() \n",
    "cv2.imshow('input',input)\n",
    "cv2.waitKey(0) \n",
    "cv2.destroyAllWindows() "
   ]
  },
  {
   "cell_type": "code",
   "execution_count": null,
   "metadata": {},
   "outputs": [],
   "source": [
    "image_padded.shape"
   ]
  },
  {
   "cell_type": "code",
   "execution_count": null,
   "metadata": {},
   "outputs": [],
   "source": []
  }
 ]
}